{
 "cells": [
  {
   "cell_type": "markdown",
   "metadata": {},
   "source": [
    "In this file, I would like to study the Linear Regression problem. But I will study it, first without any packages (just numpy and pandas), create a function to compute the Regression and so on. After that, I will discuss how implemented and what are the differences to use Sci-kit learn, Tensorflow or Pytorch."
   ]
  },
  {
   "cell_type": "markdown",
   "metadata": {},
   "source": [
    "----\n",
    "# **Regression**"
   ]
  },
  {
   "cell_type": "markdown",
   "metadata": {},
   "source": [
    "Let start with the definition of the Regression problem. \n",
    "\n",
    "The goal of regression problem is: *determine the relation of an independent variable \"x\" and dependent variable \"y\"*. The way in what we will solved this problem, is *find a function*.\n",
    "However, there are two key ingredients in order to find out the solutions: \n",
    "\n",
    "- The space in which we will find the functions.\n",
    "This space is define by the dimensionality of the (training) data set.\n",
    "\n",
    "- The criteria of serching these functions\n",
    "There are some approach (methods or metric) to find the function.\n",
    "\n",
    "Now, we want to write in formal way. For a (training) set $D$ with $N \\in \\mathbb{N}$ entries, we define $x_i$ as imput variable and $y_i$ output variable. Such that\n",
    "$$\n",
    "\\{x_i\\}\\,, \\{y_i\\}\\,, \\quad i \\in \\{1,2,...,N\\}\\,.\n",
    "$$ \n",
    "Thus \n",
    "$$\n",
    "D = \\{(x_i,y_i)\\}_{i=1}^N \\subset \\mathbb{R}^M \\times \\mathbb{R}\\,,\n",
    "$$\n",
    "where $x_i \\in \\mathbb{R}^M$ (a vector of dimension $M$) and $y_i \\in \\mathbb{R}$ a scalar (number). So, the function is\n",
    "\\begin{equation}\\label{eq.def_regression}\n",
    "f : \\mathbb{R}^M \\to \\mathbb{R}\\,.\n",
    "\\end{equation}\n",
    "But, we do not know the form of $f$. One way to make a progress is the Linear case or Linear Regression."
   ]
  },
  {
   "cell_type": "markdown",
   "metadata": {},
   "source": [
    "---\n",
    "## I. Linear Regression\n"
   ]
  },
  {
   "cell_type": "markdown",
   "metadata": {},
   "source": [
    "The **linear model** define the problem $\\eqref{eq.def_regression}$ as\n",
    "\\begin{equation}\\label{eq.def_linearRegre}\n",
    "f: \\mathbb{R}^M \\to \\mathbb{R}\\,, \\quad x \\to y\\equiv f(x) = a^t x + b\\,, \\quad a \\in \\mathbb{R}^M\\,, b\\in \\mathbb{R} \\,.\n",
    "\\end{equation}\n",
    "but, the form of this function is not linear at all (as linear-transformation's sense); it is **affine** (because the term $b$ break the linearity). \n",
    "Now, we have to define some criteria to find the parameters $a,b$. The well known way is define by the **least square**. So, the **cost function** (or cuadratic error) as\n",
    "\\begin{equation}\\label{eq.J_cost1}\n",
    "J(D,f) = \\sum_{i=1}^N (y_i -f(x_i))^2\\,, \n",
    "\\end{equation}\n",
    "This function is quadratic, this means that exist a unique minimum. We can find it out using a derivative (gradient). Therefore\n",
    "\n",
    "$$\n",
    "a^*\\,, b^* = Min \\sum_{i=1}^N (y_i -a^t x_i -b)^2\\,, \n",
    "$$\n",
    "\n",
    "where $a^*\\,,b^*$ are the mimimum values of $ a,b $ respectively.\n",
    "\n",
    "Then, we can change of variables in a manner to absorb $b$. Therefore, we define \n",
    "\n",
    "\\begin{equation}\n",
    "\\tilde{x}_i = \\left(\\begin{matrix}\n",
    "x_i\\\\\n",
    "1\n",
    "\\end{matrix}\\right) \\in \\mathbb{R}^{M+1}\\,, \\quad \\theta = \\left(\\begin{matrix}\n",
    "a\\\\\n",
    "b\n",
    "\\end{matrix}\\right) \\in \\mathbb{R}^{M+1}\\,.\n",
    "\\end{equation}\n",
    "\n",
    "Now, $\\theta$ contains all the information that we need. If we find $\\theta$ we define $f$. Thus, we can rexpress $\\eqref{eq.J_cost1}$ as\n",
    "\n",
    "$$\n",
    "J(D,f) = \\sum_{i=1}^N (y_i -\\theta^t \\tilde{x}_i)^2\\,,\n",
    "$$\n",
    "or in matricial representation\n",
    "\n",
    "\\begin{equation} \\label{eq.Ext_vecs}\n",
    "\\tilde{X} = \\left(\\begin{matrix} \n",
    "\\tilde{x}_1^t\\\\\n",
    "\\tilde{x}_2^t\\\\\n",
    ".\\\\\n",
    ".\\\\\n",
    ".\\\\\n",
    "\\tilde{x}_N^t\n",
    "\\end{matrix}\\right) \\in \\mathbb{R}^{N\\times (M+1)}\\,, \\quad Y = \\left(\\begin{matrix} \n",
    "y_1\\\\\n",
    "y_2\\\\\n",
    ".\\\\\n",
    ".\\\\\n",
    ".\\\\\n",
    "y_N\n",
    "\\end{matrix}\\right) \\in \\mathbb{R}^{N}\\,,\n",
    "\\end{equation}\n",
    "\n",
    "thus\n",
    "\n",
    "\\begin{equation} \\label{eq.J_cost2}\n",
    "J = || Y- \\tilde{X}\\theta||^2\\,.\n",
    "\\end{equation}\n",
    "\n",
    "So far, we arrange the cost function in order to compute. Now, we will minimize $\\eqref{eq.J_cost2}$ with the gradient\n",
    "\n",
    "\\begin{equation} \\label{eq.theta}\n",
    "\\nabla_\\theta J = 2(Y- \\tilde{X}\\theta)^t (-\\tilde{X})= 0 \\quad \\to \\quad \\theta = (\\tilde{X}^t \\tilde{X})^{-1} \\tilde{X}^t Y\\,,\n",
    "\\end{equation}\n",
    "\n",
    "and this is the expression that I would like to implement! Let's get into it!"
   ]
  },
  {
   "cell_type": "markdown",
   "metadata": {},
   "source": [
    "----\n",
    "### 1.1 Scratch implementation"
   ]
  },
  {
   "cell_type": "markdown",
   "metadata": {},
   "source": [
    "Let start the code in order to implement the Linear Regression. First, we load some packages"
   ]
  },
  {
   "cell_type": "code",
   "execution_count": 1,
   "metadata": {},
   "outputs": [],
   "source": [
    "import numpy as np\n",
    "import matplotlib.pyplot as plt\n",
    "import seaborn as sns"
   ]
  },
  {
   "cell_type": "markdown",
   "metadata": {},
   "source": [
    "also, we load the dataset. In order to define the dependent value $Y$, we have to load as a array"
   ]
  },
  {
   "cell_type": "code",
   "execution_count": 2,
   "metadata": {},
   "outputs": [
    {
     "name": "stdout",
     "output_type": "stream",
     "text": [
      "[[20.         88.59999847]\n",
      " [16.         71.59999847]\n",
      " [19.79999924 93.30000305]\n",
      " [18.39999962 84.30000305]\n",
      " [17.10000038 80.59999847]\n",
      " [15.5        75.19999695]\n",
      " [14.69999981 69.69999695]\n",
      " [17.10000038 82.        ]\n",
      " [15.39999962 69.40000153]\n",
      " [16.20000076 83.30000305]\n",
      " [15.         79.59999847]\n",
      " [17.20000076 82.59999847]\n",
      " [16.         80.59999847]\n",
      " [17.         83.5       ]\n",
      " [14.39999962 76.30000305]]\n"
     ]
    }
   ],
   "source": [
    "# Load data \n",
    "data_path = 'data/crickets.csv' # data path \n",
    "data = np.loadtxt(data_path, delimiter=',') # load data as an array, with delimiter \",\" (coma)\n",
    "\n",
    "print(data) #check the data is an array"
   ]
  },
  {
   "cell_type": "markdown",
   "metadata": {},
   "source": [
    "in this way, the data is an array. So, we need to pick each column with the next code"
   ]
  },
  {
   "cell_type": "code",
   "execution_count": 3,
   "metadata": {},
   "outputs": [
    {
     "name": "stdout",
     "output_type": "stream",
     "text": [
      "[20.         16.         19.79999924 18.39999962 17.10000038 15.5\n",
      " 14.69999981 17.10000038 15.39999962 16.20000076 15.         17.20000076\n",
      " 16.         17.         14.39999962]\n",
      "[88.59999847 71.59999847 93.30000305 84.30000305 80.59999847 75.19999695\n",
      " 69.69999695 82.         69.40000153 83.30000305 79.59999847 82.59999847\n",
      " 80.59999847 83.5        76.30000305]\n"
     ]
    }
   ],
   "source": [
    "X = data[:,0] # All first column of the data set\n",
    "Y = data[:,1] # All second column of the data set\n",
    "\n",
    "# Checking the we select correctly\n",
    "print(X)\n",
    "print(Y)"
   ]
  },
  {
   "cell_type": "markdown",
   "metadata": {},
   "source": [
    "We define the extended vector of the eq. $\\eqref{eq.Ext_vecs}$"
   ]
  },
  {
   "cell_type": "code",
   "execution_count": 4,
   "metadata": {},
   "outputs": [
    {
     "data": {
      "text/plain": [
       "(array([[20.        ,  1.        ],\n",
       "        [16.        ,  1.        ],\n",
       "        [19.79999924,  1.        ],\n",
       "        [18.39999962,  1.        ],\n",
       "        [17.10000038,  1.        ],\n",
       "        [15.5       ,  1.        ],\n",
       "        [14.69999981,  1.        ],\n",
       "        [17.10000038,  1.        ],\n",
       "        [15.39999962,  1.        ],\n",
       "        [16.20000076,  1.        ],\n",
       "        [15.        ,  1.        ],\n",
       "        [17.20000076,  1.        ],\n",
       "        [16.        ,  1.        ],\n",
       "        [17.        ,  1.        ],\n",
       "        [14.39999962,  1.        ]]),\n",
       " array([[20.        , 16.        , 19.79999924, 18.39999962, 17.10000038,\n",
       "         15.5       , 14.69999981, 17.10000038, 15.39999962, 16.20000076,\n",
       "         15.        , 17.20000076, 16.        , 17.        , 14.39999962],\n",
       "        [ 1.        ,  1.        ,  1.        ,  1.        ,  1.        ,\n",
       "          1.        ,  1.        ,  1.        ,  1.        ,  1.        ,\n",
       "          1.        ,  1.        ,  1.        ,  1.        ,  1.        ]]))"
      ]
     },
     "execution_count": 4,
     "metadata": {},
     "output_type": "execute_result"
    }
   ],
   "source": [
    "# \"np.ones(len(X))\"  Create new array filled with ones with the same dimension of X\n",
    "\n",
    "X_tilde = np.vstack((X,np.ones(len(X)))).T # Create a array of two rows, the first is the \"x\" values of the data and the second row are \"1\". Then we transpose\n",
    "X_tilde_t = X_tilde.T # The transpose of the above vector\n",
    "\n",
    "X_tilde, X_tilde_t"
   ]
  },
  {
   "cell_type": "markdown",
   "metadata": {},
   "source": [
    "the inverse of a product"
   ]
  },
  {
   "cell_type": "code",
   "execution_count": 5,
   "metadata": {},
   "outputs": [
    {
     "data": {
      "text/plain": [
       "array([[ 0.02465645, -0.41061216],\n",
       "       [-0.41061216,  6.90472779]])"
      ]
     },
     "execution_count": 5,
     "metadata": {},
     "output_type": "execute_result"
    }
   ],
   "source": [
    "XX_inv = np.linalg.inv(X_tilde_t.dot(X_tilde))\n",
    "XX_inv"
   ]
  },
  {
   "cell_type": "markdown",
   "metadata": {},
   "source": [
    "Then we define the weight value $\\theta$ of the eq. $\\eqref{eq.theta}$, as"
   ]
  },
  {
   "cell_type": "code",
   "execution_count": 6,
   "metadata": {},
   "outputs": [
    {
     "data": {
      "text/plain": [
       "array([ 3.29109457, 25.23230498])"
      ]
     },
     "execution_count": 6,
     "metadata": {},
     "output_type": "execute_result"
    }
   ],
   "source": [
    "theta = XX_inv.dot(X_tilde_t.dot(Y))\n",
    "theta"
   ]
  },
  {
   "cell_type": "markdown",
   "metadata": {},
   "source": [
    "this value of $\\theta$ define the valus of $a$ and $b$. Therefore"
   ]
  },
  {
   "cell_type": "code",
   "execution_count": 7,
   "metadata": {},
   "outputs": [],
   "source": [
    "# Definition of our function y = f(x) = a^t X + b\n",
    "\n",
    "a = theta[0]\n",
    "b = theta[1]\n",
    "Y_reg = a*X + b"
   ]
  },
  {
   "cell_type": "markdown",
   "metadata": {},
   "source": [
    "and then we plot the regression"
   ]
  },
  {
   "cell_type": "code",
   "execution_count": 26,
   "metadata": {},
   "outputs": [
    {
     "data": {
      "text/plain": [
       "Text(0.5, 1.0, 'Linear regression for Cricket dataset')"
      ]
     },
     "execution_count": 26,
     "metadata": {},
     "output_type": "execute_result"
    },
    {
     "data": {
      "image/png": "[encoded data removed]",
      "text/plain": [
       "<Figure size 640x480 with 1 Axes>"
      ]
     },
     "metadata": {},
     "output_type": "display_data"
    }
   ],
   "source": [
    "# Plot\n",
    "\n",
    "plt.plot(X, Y, 'o', label='Data')\n",
    "plt.plot(X, Y_reg, label='Linear regression')\n",
    "\n",
    "# Legends and labels\n",
    "plt.legend()\n",
    "plt.xlabel('Chirp/sec')\n",
    "plt.ylabel('Temperature[°F]')\n",
    "plt.title('Linear regression for Cricket dataset')\n"
   ]
  },
  {
   "cell_type": "markdown",
   "metadata": {},
   "source": [
    "----\n",
    "### 1.2 Sci-kit learn implementation"
   ]
  },
  {
   "cell_type": "markdown",
   "metadata": {},
   "source": [
    "Now, in this part, I will show how to obtain the same result with Sci-kit learn package. "
   ]
  },
  {
   "cell_type": "code",
   "execution_count": 13,
   "metadata": {},
   "outputs": [],
   "source": [
    "# import LinearRegression from linear_model and mean_squared_error from metrics\n",
    "\n",
    "from sklearn.linear_model import LinearRegression\n",
    "from sklearn.metrics import mean_squared_error"
   ]
  },
  {
   "cell_type": "code",
   "execution_count": 19,
   "metadata": {},
   "outputs": [
    {
     "data": {
      "text/plain": [
       "array([[20.        ],\n",
       "       [16.        ],\n",
       "       [19.79999924],\n",
       "       [18.39999962],\n",
       "       [17.10000038],\n",
       "       [15.5       ],\n",
       "       [14.69999981],\n",
       "       [17.10000038],\n",
       "       [15.39999962],\n",
       "       [16.20000076],\n",
       "       [15.        ],\n",
       "       [17.20000076],\n",
       "       [16.        ],\n",
       "       [17.        ],\n",
       "       [14.39999962]])"
      ]
     },
     "execution_count": 19,
     "metadata": {},
     "output_type": "execute_result"
    }
   ],
   "source": [
    "X[:, np.newaxis]"
   ]
  },
  {
   "cell_type": "code",
   "execution_count": 34,
   "metadata": {},
   "outputs": [
    {
     "data": {
      "text/html": [
       "<style>#sk-container-id-2 {color: black;}#sk-container-id-2 pre{padding: 0;}#sk-container-id-2 div.sk-toggleable {background-color: white;}#sk-container-id-2 label.sk-toggleable__label {cursor: pointer;display: block;width: 100%;margin-bottom: 0;padding: 0.3em;box-sizing: border-box;text-align: center;}#sk-container-id-2 label.sk-toggleable__label-arrow:before {content: \"▸\";float: left;margin-right: 0.25em;color: #696969;}#sk-container-id-2 label.sk-toggleable__label-arrow:hover:before {color: black;}#sk-container-id-2 div.sk-estimator:hover label.sk-toggleable__label-arrow:before {color: black;}#sk-container-id-2 div.sk-toggleable__content {max-height: 0;max-width: 0;overflow: hidden;text-align: left;background-color: #f0f8ff;}#sk-container-id-2 div.sk-toggleable__content pre {margin: 0.2em;color: black;border-radius: 0.25em;background-color: #f0f8ff;}#sk-container-id-2 input.sk-toggleable__control:checked~div.sk-toggleable__content {max-height: 200px;max-width: 100%;overflow: auto;}#sk-container-id-2 input.sk-toggleable__control:checked~label.sk-toggleable__label-arrow:before {content: \"▾\";}#sk-container-id-2 div.sk-estimator input.sk-toggleable__control:checked~label.sk-toggleable__label {background-color: #d4ebff;}#sk-container-id-2 div.sk-label input.sk-toggleable__control:checked~label.sk-toggleable__label {background-color: #d4ebff;}#sk-container-id-2 input.sk-hidden--visually {border: 0;clip: rect(1px 1px 1px 1px);clip: rect(1px, 1px, 1px, 1px);height: 1px;margin: -1px;overflow: hidden;padding: 0;position: absolute;width: 1px;}#sk-container-id-2 div.sk-estimator {font-family: monospace;background-color: #f0f8ff;border: 1px dotted black;border-radius: 0.25em;box-sizing: border-box;margin-bottom: 0.5em;}#sk-container-id-2 div.sk-estimator:hover {background-color: #d4ebff;}#sk-container-id-2 div.sk-parallel-item::after {content: \"\";width: 100%;border-bottom: 1px solid gray;flex-grow: 1;}#sk-container-id-2 div.sk-label:hover label.sk-toggleable__label {background-color: #d4ebff;}#sk-container-id-2 div.sk-serial::before {content: \"\";position: absolute;border-left: 1px solid gray;box-sizing: border-box;top: 0;bottom: 0;left: 50%;z-index: 0;}#sk-container-id-2 div.sk-serial {display: flex;flex-direction: column;align-items: center;background-color: white;padding-right: 0.2em;padding-left: 0.2em;position: relative;}#sk-container-id-2 div.sk-item {position: relative;z-index: 1;}#sk-container-id-2 div.sk-parallel {display: flex;align-items: stretch;justify-content: center;background-color: white;position: relative;}#sk-container-id-2 div.sk-item::before, #sk-container-id-2 div.sk-parallel-item::before {content: \"\";position: absolute;border-left: 1px solid gray;box-sizing: border-box;top: 0;bottom: 0;left: 50%;z-index: -1;}#sk-container-id-2 div.sk-parallel-item {display: flex;flex-direction: column;z-index: 1;position: relative;background-color: white;}#sk-container-id-2 div.sk-parallel-item:first-child::after {align-self: flex-end;width: 50%;}#sk-container-id-2 div.sk-parallel-item:last-child::after {align-self: flex-start;width: 50%;}#sk-container-id-2 div.sk-parallel-item:only-child::after {width: 0;}#sk-container-id-2 div.sk-dashed-wrapped {border: 1px dashed gray;margin: 0 0.4em 0.5em 0.4em;box-sizing: border-box;padding-bottom: 0.4em;background-color: white;}#sk-container-id-2 div.sk-label label {font-family: monospace;font-weight: bold;display: inline-block;line-height: 1.2em;}#sk-container-id-2 div.sk-label-container {text-align: center;}#sk-container-id-2 div.sk-container {/* jupyter's `normalize.less` sets `[hidden] { display: none; }` but bootstrap.min.css set `[hidden] { display: none !important; }` so we also need the `!important` here to be able to override the default hidden behavior on the sphinx rendered scikit-learn.org. See: https://github.com/scikit-learn/scikit-learn/issues/21755 */display: inline-block !important;position: relative;}#sk-container-id-2 div.sk-text-repr-fallback {display: none;}</style><div id=\"sk-container-id-2\" class=\"sk-top-container\"><div class=\"sk-text-repr-fallback\"><pre>LinearRegression()</pre><b>In a Jupyter environment, please rerun this cell to show the HTML representation or trust the notebook. <br />On GitHub, the HTML representation is unable to render, please try loading this page with nbviewer.org.</b></div><div class=\"sk-container\" hidden><div class=\"sk-item\"><div class=\"sk-estimator sk-toggleable\"><input class=\"sk-toggleable__control sk-hidden--visually\" id=\"sk-estimator-id-2\" type=\"checkbox\" checked><label for=\"sk-estimator-id-2\" class=\"sk-toggleable__label sk-toggleable__label-arrow\">LinearRegression</label><div class=\"sk-toggleable__content\"><pre>LinearRegression()</pre></div></div></div></div></div>"
      ],
      "text/plain": [
       "LinearRegression()"
      ]
     },
     "execution_count": 34,
     "metadata": {},
     "output_type": "execute_result"
    }
   ],
   "source": [
    "# Define linearRegression()\n",
    "\n",
    "reg = LinearRegression()\n",
    "reg.fit(X[:, np.newaxis], Y)"
   ]
  },
  {
   "cell_type": "code",
   "execution_count": 29,
   "metadata": {},
   "outputs": [
    {
     "data": {
      "text/plain": [
       "array([91.05419634, 77.88981807, 90.39597493, 85.78844378, 81.51002335,\n",
       "       76.24427079, 73.61139451, 81.51002335, 75.91516008, 78.54803949,\n",
       "       74.5987235 , 81.83913405, 77.88981807, 81.18091264, 72.62406551])"
      ]
     },
     "execution_count": 29,
     "metadata": {},
     "output_type": "execute_result"
    }
   ],
   "source": [
    "# Use predict() for compute the values of Y\n",
    "Y_pred = reg.predict(X[:, np.newaxis])\n",
    "Y_pred"
   ]
  },
  {
   "cell_type": "code",
   "execution_count": 33,
   "metadata": {},
   "outputs": [
    {
     "data": {
      "text/plain": [
       "Text(0.5, 1.0, 'Linear regression for Cricket dataset')"
      ]
     },
     "execution_count": 33,
     "metadata": {},
     "output_type": "execute_result"
    },
    {
     "data": {
      "image/png": "[encoded data removed]",
      "text/plain": [
       "<Figure size 640x480 with 1 Axes>"
      ]
     },
     "metadata": {},
     "output_type": "display_data"
    }
   ],
   "source": [
    "# Plot\n",
    "\n",
    "plt.plot(X, Y, 'o', label='Data')\n",
    "plt.plot(X, Y_reg, label='Linear regression')\n",
    "plt.plot(X, Y_pred, 'x', label='Linear regression Sci-kit learn')\n",
    "\n",
    "# Legends and labels\n",
    "plt.legend()\n",
    "plt.xlabel('Chirp/sec')\n",
    "plt.ylabel('Temperature[°F]')\n",
    "plt.title('Linear regression for Cricket dataset')\n"
   ]
  },
  {
   "cell_type": "markdown",
   "metadata": {},
   "source": [
    "Thus, we can appreciate the both LinearRegression have good agreement!"
   ]
  },
  {
   "cell_type": "markdown",
   "metadata": {},
   "source": [
    "----\n",
    "### 1.3 Tensorflow implementation"
   ]
  },
  {
   "cell_type": "code",
   "execution_count": null,
   "metadata": {},
   "outputs": [],
   "source": []
  }
 ],
 "metadata": {
  "kernelspec": {
   "display_name": "Python 3",
   "language": "python",
   "name": "python3"
  },
  "language_info": {
   "codemirror_mode": {
    "name": "ipython",
    "version": 3
   },
   "file_extension": ".py",
   "mimetype": "text/x-python",
   "name": "python",
   "nbconvert_exporter": "python",
   "pygments_lexer": "ipython3",
   "version": "3.8.5"
  }
 },
 "nbformat": 4,
 "nbformat_minor": 2
}
