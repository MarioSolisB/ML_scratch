{
 "cells": [
  {
   "cell_type": "markdown",
   "metadata": {},
   "source": [
    "In this file, I would like to study the Linear Regression problem. But I will study it, first without any packages (just numpy and pandas), create a function to compute the Regression and so on. After that, I will discuss how implemented and what are the differences to use Sci-kit learn, Tensorflow or Pytorch."
   ]
  },
  {
   "cell_type": "markdown",
   "metadata": {},
   "source": [
    "---\n",
    "# **Regression**"
   ]
  },
  {
   "cell_type": "markdown",
   "metadata": {},
   "source": [
    "Let start with the definition of the Regression problem. \n",
    "\n",
    "\n",
    "The goal of regression problem is: *determine the relation of an independent variable \"x\" and dependent variable \"y\"*. The way in what we will solved this problem, is *find a function*.\n",
    "However, there are two key ingredients in order to find out the solutions: \n",
    "\n",
    "- The space in which we will find the functions.\n",
    "This space is define by the dimensionality of the (training) data set.\n",
    "\n",
    "- The criteria of serching these functions\n",
    "There are some approach (methods or metric) to find the function.\n",
    "\n",
    "Now, we want to write in formal way. \n",
    "\n",
    "** For a (training) set $D$ with $N \\in \\mathbb{N}$, entries of imput/output variables:\n",
    "$$\n",
    "\\{x_i\\}\\,, \\{y_i\\}\\,, \\quad i \\in \\{1,2,...,N\\}\\,.\n",
    "$$ \n",
    "Thus \n",
    "$$\n",
    "D = \\{(x_i,y_i)\\}_{i=1}^N \\subset \\mathbb{R}^M \\times \\mathbb{R}\\,,\n",
    "$$\n",
    "\n",
    "One way to make a progress is the Linear case or Linear Regression."
   ]
  },
  {
   "cell_type": "markdown",
   "metadata": {},
   "source": [
    "I. Linear Regression\n",
    "---"
   ]
  },
  {
   "cell_type": "markdown",
   "metadata": {},
   "source": []
  }
 ],
 "metadata": {
  "language_info": {
   "name": "python"
  }
 },
 "nbformat": 4,
 "nbformat_minor": 2
}
