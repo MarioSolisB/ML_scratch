{
 "cells": [
  {
   "cell_type": "markdown",
   "metadata": {},
   "source": [
    "In this file, I would like to study the Linear Regression problem. But I will study it, first without any packages (just numpy and pandas), create a function to compute the Regression and so on. After that, I will discuss how implemented and what are the differences to use Sci-kit learn, Tensorflow or Pytorch."
   ]
  },
  {
   "cell_type": "markdown",
   "metadata": {},
   "source": [
    "----\n",
    "# **Regression**"
   ]
  },
  {
   "cell_type": "markdown",
   "metadata": {},
   "source": [
    "Let start with the definition of the Regression problem. \n",
    "\n",
    "The goal of regression problem is: *determine the relation of an independent variable \"x\" and dependent variable \"y\"*. The way in what we will solved this problem, is *find a function*.\n",
    "However, there are two key ingredients in order to find out the solutions: \n",
    "\n",
    "- The space in which we will find the functions.\n",
    "This space is define by the dimensionality of the (training) data set.\n",
    "\n",
    "- The criteria of serching these functions\n",
    "There are some approach (methods or metric) to find the function.\n",
    "\n",
    "Now, we want to write in formal way. For a (training) set $D$ with $N \\in \\mathbb{N}$ entries, we define $x_i$ as imput variable and $y_i$ output variable. Such that\n",
    "$$\n",
    "\\{x_i\\}\\,, \\{y_i\\}\\,, \\quad i \\in \\{1,2,...,N\\}\\,.\n",
    "$$ \n",
    "Thus \n",
    "$$\n",
    "D = \\{(x_i,y_i)\\}_{i=1}^N \\subset \\mathbb{R}^M \\times \\mathbb{R}\\,,\n",
    "$$\n",
    "where $x_i \\in \\mathbb{R}^M$ (a vector of dimension $M$) and $y_i \\in \\mathbb{R}$ a scalar (number). So, the function is\n",
    "\\begin{equation}\\label{eq.def_regression}\n",
    "f : \\mathbb{R}^M \\to \\mathbb{R}\\,.\n",
    "\\end{equation}\n",
    "But, we do not know the form of $f$. One way to make a progress is the Linear case or Linear Regression."
   ]
  },
  {
   "cell_type": "markdown",
   "metadata": {},
   "source": [
    "---\n",
    "## I. Linear Regression\n"
   ]
  },
  {
   "cell_type": "markdown",
   "metadata": {},
   "source": [
    "The **linear model** define the problem $\\eqref{eq.def_regression}$ as\n",
    "\\begin{equation}\\label{eq.def_linearRegre}\n",
    "f: \\mathbb{R}^M \\to \\mathbb{R}\\,, \\quad x \\to y\\equiv f(x) = a^t x + b\\,, \\quad a \\in \\mathbb{R}^M\\,, b\\in \\mathbb{R} \\,.\n",
    "\\end{equation}\n",
    "but, the form of this function is not linear at all (as linear-transformation's sense); it is **affine** (because the term $b$ break the linearity). \n",
    "Now, we have to define some criteria to find the parameters $a,b$. The well known way is define by the **least square**. So, the **cost function** (or cuadratic error) as\n",
    "\\begin{equation}\\label{eq.J_cost1}\n",
    "J(D,f) = \\sum_{i=1}^N (y_i -f(x_i))^2\\,, \n",
    "\\end{equation}\n",
    "This function is quadratic, this means that exist a unique minimum. We can find it out using a derivative (gradient). Therefore\n",
    "$$\n",
    "a^*\\,, b^* = Min \\sum_{i=1}^N (y_i -a^t x_i -b)^2\\,, \n",
    "$$\n",
    "where $a^*\\,,b^*$ are the mimimum values of $ a,b $\n",
    "respectively.\n",
    "\n",
    "Then, we can change of variables in a manner to absorb $b$. Therefore, we define \n",
    "\\begin{equation}\n",
    "\\tilde{x}_i = \\left(\\begin{matrix}\n",
    "x_i\\\\\n",
    "1\n",
    "\\end{matrix}\\right) \\in \\mathbb{R}^{M+1}\\,, \\quad \\theta = \\left(\\begin{matrix}\n",
    "a\\\\\n",
    "b\n",
    "\\end{matrix}\\right) \\in \\mathbb{R}^{M+1}\\,.\n",
    "\\end{equation}\n",
    "Now, $\\theta$ contains all the information that we need. If we find $\\theta$ we define $f$. Thus, we can rexpress $\\eqref{eq.J_cost1}$ as\n",
    "$$\n",
    "J(D,f) = \\sum_{i=1}^N (y_i -\\theta^t \\tilde{x}_i)^2\\,,\n",
    "$$\n",
    "or in matricial representation\n",
    "$$\n",
    "\\tilde{X} = \\left(\\begin{matrix} \n",
    "\\tilde{x}_1^t\\\\\n",
    "\\tilde{x}_2^t\\\\\n",
    ".\\\\\n",
    ".\\\\\n",
    ".\\\\\n",
    "\\tilde{x}_N^t\n",
    "\\end{matrix}\\right) \\in \\mathbb{R}^{N\\times (M+1)}\\,, \\quad Y = \\left(\\begin{matrix} \n",
    "y_1\\\\\n",
    "y_2\\\\\n",
    ".\\\\\n",
    ".\\\\\n",
    ".\\\\\n",
    "y_N\n",
    "\\end{matrix}\\right) \\in \\mathbb{R}^{N}\\,,\n",
    "$$\n",
    "thus\n",
    "\\begin{equation} \\label{eq.J_cost2}\n",
    "J = || Y- \\tilde{X}\\theta||^2\\,.\n",
    "\\end{equation}\n",
    "\n",
    "So far, we arrange the cost function in order to compute. Now, we will minimize $\\eqref{eq.J_cost2}$ with the gradient\n",
    "$$\n",
    "\\nabla_\\theta J = 2(Y- \\tilde{X}\\theta)^t (-\\tilde{X})= 0 \\quad \\to \\quad \\theta = (\\tilde{X}^t \\tilde{X})^{-1} \\tilde{X}^t Y\\,,\n",
    "$$\n",
    "and this is the expression that I would like to implement! Let's get into it!"
   ]
  },
  {
   "cell_type": "markdown",
   "metadata": {},
   "source": [
    "----\n",
    "### 1.1 Scratch implementation"
   ]
  },
  {
   "cell_type": "markdown",
   "metadata": {},
   "source": []
  }
 ],
 "metadata": {
  "language_info": {
   "name": "python"
  }
 },
 "nbformat": 4,
 "nbformat_minor": 2
}
