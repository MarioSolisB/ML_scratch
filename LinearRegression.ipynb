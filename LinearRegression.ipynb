{
 "cells": [
  {
   "cell_type": "markdown",
   "metadata": {},
   "source": [
    "In this file, I would like to study the Linear Regression problem. But I will study it, first without any packages (just numpy and pandas), create a function to compute the Regression and so on. After that, I will discuss how implemented and what are the differences to use Sci-kit learn, Tensorflow or Pytorch."
   ]
  },
  {
   "cell_type": "markdown",
   "metadata": {},
   "source": [
    "----\n",
    "# **Regression**"
   ]
  },
  {
   "cell_type": "markdown",
   "metadata": {},
   "source": [
    "Let start with the definition of the Regression problem. \n",
    "\n",
    "The goal of regression problem is: *determine the relation of an independent variable \"x\" and dependent variable \"y\"*. The way in what we will solved this problem, is *find a function*.\n",
    "However, there are two key ingredients in order to find out the solutions: \n",
    "\n",
    "- The space in which we will find the functions.\n",
    "This space is define by the dimensionality of the (training) data set.\n",
    "\n",
    "- The criteria of serching these functions\n",
    "There are some approach (methods or metric) to find the function.\n",
    "\n",
    "Now, we want to write in formal way. For a (training) set $D$ with $N \\in \\mathbb{N}$ entries, we define $x_i$ as imput variable and $y_i$ output variable. Such that\n",
    "$$\n",
    "\\{x_i\\}\\,, \\{y_i\\}\\,, \\quad i \\in \\{1,2,...,N\\}\\,.\n",
    "$$ \n",
    "Thus \n",
    "$$\n",
    "D = \\{(x_i,y_i)\\}_{i=1}^N \\subset \\mathbb{R}^M \\times \\mathbb{R}\\,,\n",
    "$$\n",
    "where $x_i \\in \\mathbb{R}^M$ (a vector of dimension $M$) and $y_i \\in \\mathbb{R}$ a scalar (number). So, the function is\n",
    "\\begin{equation}\\label{eq.def_regression}\n",
    "f : \\mathbb{R}^M \\to \\mathbb{R}\\,.\n",
    "\\end{equation}\n",
    "But, we do not know the form of $f$. One way to make a progress is the Linear case or Linear Regression."
   ]
  },
  {
   "cell_type": "markdown",
   "metadata": {},
   "source": [
    "---\n",
    "## I. Linear Regression\n"
   ]
  },
  {
   "cell_type": "markdown",
   "metadata": {},
   "source": [
    "The **linear model** define the problem $\\eqref{eq.def_regression}$ as\n",
    "\\begin{equation}\\label{eq.def_linearRegre}\n",
    "f: \\mathbb{R}^M \\to \\mathbb{R}\\,, \\quad x \\to y\\equiv f(x) = a^t x + b\\,, \\quad a \\in \\mathbb{R}^M\\,, b\\in \\mathbb{R} \\,.\n",
    "\\end{equation}\n",
    "but, the form of this function is not linear at all (as linear-transformation's sense); it is **affine** (because the term $b$ break the linearity). \n",
    "Now, we have to define some criteria to find the parameters $a,b$. The well known way is define by the **least square**. So, the **cost function** (or cuadratic error) as\n",
    "\\begin{equation}\\label{eq.J_cost1}\n",
    "J(D,f) = \\sum_{i=1}^N (y_i -f(x_i))^2\\,, \n",
    "\\end{equation}\n",
    "This function is quadratic, this means that exist a unique minimum. We can find it out using a derivative (gradient). Therefore\n",
    "$$\n",
    "a^*\\,, b^* = Min \\sum_{i=1}^N (y_i -a^t x_i -b)^2\\,, \n",
    "$$\n",
    "where $a^*\\,,b^*$ are the mimimum values of $ a,b $\n",
    "respectively.\n",
    "\n",
    "Then, we can change of variables in a manner to absorb $b$. Therefore, we define \n",
    "\\begin{equation}\n",
    "\\tilde{x}_i = \\left(\\begin{matrix}\n",
    "x_i\\\\\n",
    "1\n",
    "\\end{matrix}\\right) \\in \\mathbb{R}^{M+1}\\,, \\quad \\theta = \\left(\\begin{matrix}\n",
    "a\\\\\n",
    "b\n",
    "\\end{matrix}\\right) \\in \\mathbb{R}^{M+1}\\,.\n",
    "\\end{equation}\n",
    "Now, $\\theta$ contains all the information that we need. If we find $\\theta$ we define $f$. Thus, we can rexpress $\\eqref{eq.J_cost1}$ as\n",
    "$$\n",
    "J(D,f) = \\sum_{i=1}^N (y_i -\\theta^t \\tilde{x}_i)^2\\,,\n",
    "$$\n",
    "or in matricial representation\n",
    "$$\n",
    "\\tilde{X} = \\left(\\begin{matrix} \n",
    "\\tilde{x}_1^t\\\\\n",
    "\\tilde{x}_2^t\\\\\n",
    ".\\\\\n",
    ".\\\\\n",
    ".\\\\\n",
    "\\tilde{x}_N^t\n",
    "\\end{matrix}\\right) \\in \\mathbb{R}^{N\\times (M+1)}\\,, \\quad Y = \\left(\\begin{matrix} \n",
    "y_1\\\\\n",
    "y_2\\\\\n",
    ".\\\\\n",
    ".\\\\\n",
    ".\\\\\n",
    "y_N\n",
    "\\end{matrix}\\right) \\in \\mathbb{R}^{N}\\,,\n",
    "$$\n",
    "thus\n",
    "\\begin{equation} \\label{eq.J_cost2}\n",
    "J = || Y- \\tilde{X}\\theta||^2\\,.\n",
    "\\end{equation}\n",
    "\n",
    "So far, we arrange the cost function in order to compute. Now, we will minimize $\\eqref{eq.J_cost2}$ with the gradient\n",
    "$$\n",
    "\\nabla_\\theta J = 2(Y- \\tilde{X}\\theta)^t (-\\tilde{X})= 0 \\quad \\to \\quad \\theta = (\\tilde{X}^t \\tilde{X})^{-1} \\tilde{X}^t Y\\,,\n",
    "$$\n",
    "and this is the expression that I would like to implement! Let's get into it!"
   ]
  },
  {
   "cell_type": "markdown",
   "metadata": {},
   "source": [
    "----\n",
    "### 1.1 Scratch implementation"
   ]
  },
  {
   "cell_type": "markdown",
   "metadata": {},
   "source": [
    "Let start the code in order to implement the Linear Regression. First, we load some packages"
   ]
  },
  {
   "cell_type": "code",
   "execution_count": 10,
   "metadata": {},
   "outputs": [],
   "source": [
    "import numpy as np\n",
    "import matplotlib.pyplot as plt\n",
    "import seaborn as sns"
   ]
  },
  {
   "cell_type": "markdown",
   "metadata": {},
   "source": [
    "also, we load the dataset. In order to define the dependent value $Y$, we have to load as a array"
   ]
  },
  {
   "cell_type": "code",
   "execution_count": 20,
   "metadata": {},
   "outputs": [
    {
     "ename": "FileNotFoundError",
     "evalue": "[Errno 2] No such file or directory: '../data/crickets.csv'",
     "output_type": "error",
     "traceback": [
      "\u001b[1;31m---------------------------------------------------------------------------\u001b[0m",
      "\u001b[1;31mFileNotFoundError\u001b[0m                         Traceback (most recent call last)",
      "Cell \u001b[1;32mIn[20], line 3\u001b[0m\n\u001b[0;32m      1\u001b[0m \u001b[38;5;66;03m# Load data \u001b[39;00m\n\u001b[0;32m      2\u001b[0m \u001b[38;5;66;03m#data_path = '../data/crickets.csv' # data path \u001b[39;00m\n\u001b[1;32m----> 3\u001b[0m data \u001b[38;5;241m=\u001b[39m \u001b[43mnp\u001b[49m\u001b[38;5;241;43m.\u001b[39;49m\u001b[43mloadtxt\u001b[49m\u001b[43m(\u001b[49m\u001b[38;5;124;43m'\u001b[39;49m\u001b[38;5;124;43m../data/crickets.csv\u001b[39;49m\u001b[38;5;124;43m'\u001b[39;49m\u001b[43m,\u001b[49m\u001b[43m \u001b[49m\u001b[43mdelimiter\u001b[49m\u001b[38;5;241;43m=\u001b[39;49m\u001b[38;5;124;43m'\u001b[39;49m\u001b[38;5;124;43m,\u001b[39;49m\u001b[38;5;124;43m'\u001b[39;49m\u001b[43m)\u001b[49m \u001b[38;5;66;03m# load data as an array, with delimiter \",\" (coma)\u001b[39;00m\n",
      "File \u001b[1;32mc:\\users\\mfsol\\appdata\\local\\programs\\python\\python38\\lib\\site-packages\\numpy\\lib\\npyio.py:1042\u001b[0m, in \u001b[0;36mloadtxt\u001b[1;34m(fname, dtype, comments, delimiter, converters, skiprows, usecols, unpack, ndmin, encoding, max_rows, like)\u001b[0m\n\u001b[0;32m   1040\u001b[0m     fname \u001b[38;5;241m=\u001b[39m os_fspath(fname)\n\u001b[0;32m   1041\u001b[0m \u001b[38;5;28;01mif\u001b[39;00m _is_string_like(fname):\n\u001b[1;32m-> 1042\u001b[0m     fh \u001b[38;5;241m=\u001b[39m \u001b[43mnp\u001b[49m\u001b[38;5;241;43m.\u001b[39;49m\u001b[43mlib\u001b[49m\u001b[38;5;241;43m.\u001b[39;49m\u001b[43m_datasource\u001b[49m\u001b[38;5;241;43m.\u001b[39;49m\u001b[43mopen\u001b[49m\u001b[43m(\u001b[49m\u001b[43mfname\u001b[49m\u001b[43m,\u001b[49m\u001b[43m \u001b[49m\u001b[38;5;124;43m'\u001b[39;49m\u001b[38;5;124;43mrt\u001b[39;49m\u001b[38;5;124;43m'\u001b[39;49m\u001b[43m,\u001b[49m\u001b[43m \u001b[49m\u001b[43mencoding\u001b[49m\u001b[38;5;241;43m=\u001b[39;49m\u001b[43mencoding\u001b[49m\u001b[43m)\u001b[49m\n\u001b[0;32m   1043\u001b[0m     fencoding \u001b[38;5;241m=\u001b[39m \u001b[38;5;28mgetattr\u001b[39m(fh, \u001b[38;5;124m'\u001b[39m\u001b[38;5;124mencoding\u001b[39m\u001b[38;5;124m'\u001b[39m, \u001b[38;5;124m'\u001b[39m\u001b[38;5;124mlatin1\u001b[39m\u001b[38;5;124m'\u001b[39m)\n\u001b[0;32m   1044\u001b[0m     line_iter \u001b[38;5;241m=\u001b[39m \u001b[38;5;28miter\u001b[39m(fh)\n",
      "File \u001b[1;32mc:\\users\\mfsol\\appdata\\local\\programs\\python\\python38\\lib\\site-packages\\numpy\\lib\\_datasource.py:193\u001b[0m, in \u001b[0;36mopen\u001b[1;34m(path, mode, destpath, encoding, newline)\u001b[0m\n\u001b[0;32m    156\u001b[0m \u001b[38;5;124;03m\"\"\"\u001b[39;00m\n\u001b[0;32m    157\u001b[0m \u001b[38;5;124;03mOpen `path` with `mode` and return the file object.\u001b[39;00m\n\u001b[0;32m    158\u001b[0m \n\u001b[1;32m   (...)\u001b[0m\n\u001b[0;32m    189\u001b[0m \n\u001b[0;32m    190\u001b[0m \u001b[38;5;124;03m\"\"\"\u001b[39;00m\n\u001b[0;32m    192\u001b[0m ds \u001b[38;5;241m=\u001b[39m DataSource(destpath)\n\u001b[1;32m--> 193\u001b[0m \u001b[38;5;28;01mreturn\u001b[39;00m \u001b[43mds\u001b[49m\u001b[38;5;241;43m.\u001b[39;49m\u001b[43mopen\u001b[49m\u001b[43m(\u001b[49m\u001b[43mpath\u001b[49m\u001b[43m,\u001b[49m\u001b[43m \u001b[49m\u001b[43mmode\u001b[49m\u001b[43m,\u001b[49m\u001b[43m \u001b[49m\u001b[43mencoding\u001b[49m\u001b[38;5;241;43m=\u001b[39;49m\u001b[43mencoding\u001b[49m\u001b[43m,\u001b[49m\u001b[43m \u001b[49m\u001b[43mnewline\u001b[49m\u001b[38;5;241;43m=\u001b[39;49m\u001b[43mnewline\u001b[49m\u001b[43m)\u001b[49m\n",
      "File \u001b[1;32mc:\\users\\mfsol\\appdata\\local\\programs\\python\\python38\\lib\\site-packages\\numpy\\lib\\_datasource.py:529\u001b[0m, in \u001b[0;36mDataSource.open\u001b[1;34m(self, path, mode, encoding, newline)\u001b[0m\n\u001b[0;32m    527\u001b[0m     \u001b[38;5;28;01mif\u001b[39;00m ext \u001b[38;5;241m==\u001b[39m \u001b[38;5;124m'\u001b[39m\u001b[38;5;124mbz2\u001b[39m\u001b[38;5;124m'\u001b[39m:\n\u001b[0;32m    528\u001b[0m         mode\u001b[38;5;241m.\u001b[39mreplace(\u001b[38;5;124m\"\u001b[39m\u001b[38;5;124m+\u001b[39m\u001b[38;5;124m\"\u001b[39m, \u001b[38;5;124m\"\u001b[39m\u001b[38;5;124m\"\u001b[39m)\n\u001b[1;32m--> 529\u001b[0m     \u001b[38;5;28;01mreturn\u001b[39;00m \u001b[43m_file_openers\u001b[49m\u001b[43m[\u001b[49m\u001b[43mext\u001b[49m\u001b[43m]\u001b[49m\u001b[43m(\u001b[49m\u001b[43mfound\u001b[49m\u001b[43m,\u001b[49m\u001b[43m \u001b[49m\u001b[43mmode\u001b[49m\u001b[38;5;241;43m=\u001b[39;49m\u001b[43mmode\u001b[49m\u001b[43m,\u001b[49m\n\u001b[0;32m    530\u001b[0m \u001b[43m                              \u001b[49m\u001b[43mencoding\u001b[49m\u001b[38;5;241;43m=\u001b[39;49m\u001b[43mencoding\u001b[49m\u001b[43m,\u001b[49m\u001b[43m \u001b[49m\u001b[43mnewline\u001b[49m\u001b[38;5;241;43m=\u001b[39;49m\u001b[43mnewline\u001b[49m\u001b[43m)\u001b[49m\n\u001b[0;32m    531\u001b[0m \u001b[38;5;28;01melse\u001b[39;00m:\n\u001b[0;32m    532\u001b[0m     \u001b[38;5;28;01mraise\u001b[39;00m \u001b[38;5;167;01mFileNotFoundError\u001b[39;00m(\u001b[38;5;124mf\u001b[39m\u001b[38;5;124m\"\u001b[39m\u001b[38;5;132;01m{\u001b[39;00mpath\u001b[38;5;132;01m}\u001b[39;00m\u001b[38;5;124m not found.\u001b[39m\u001b[38;5;124m\"\u001b[39m)\n",
      "\u001b[1;31mFileNotFoundError\u001b[0m: [Errno 2] No such file or directory: '../data/crickets.csv'"
     ]
    }
   ],
   "source": [
    "# Load data \n",
    "#data_path = '../data/crickets.csv' # data path \n",
    "data = np.loadtxt('../data/crickets.csv', delimiter=',') # load data as an array, with delimiter \",\" (coma)"
   ]
  },
  {
   "cell_type": "markdown",
   "metadata": {},
   "source": [
    "in this way, the data"
   ]
  },
  {
   "cell_type": "code",
   "execution_count": null,
   "metadata": {},
   "outputs": [],
   "source": [
    "X_tilde = "
   ]
  },
  {
   "cell_type": "code",
   "execution_count": 2,
   "metadata": {},
   "outputs": [],
   "source": [
    "a = np.array([1, 2, 3])\n",
    "b = np.array([4, 5, 6])\n"
   ]
  }
 ],
 "metadata": {
  "kernelspec": {
   "display_name": "Python 3",
   "language": "python",
   "name": "python3"
  },
  "language_info": {
   "codemirror_mode": {
    "name": "ipython",
    "version": 3
   },
   "file_extension": ".py",
   "mimetype": "text/x-python",
   "name": "python",
   "nbconvert_exporter": "python",
   "pygments_lexer": "ipython3",
   "version": "3.8.5"
  }
 },
 "nbformat": 4,
 "nbformat_minor": 2
}
